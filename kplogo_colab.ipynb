{
  "nbformat": 4,
  "nbformat_minor": 0,
  "metadata": {
    "colab": {
      "provenance": [],
      "authorship_tag": "ABX9TyPwdW3cdAirxvFcDpDa5fOk",
      "include_colab_link": true
    },
    "kernelspec": {
      "name": "python3",
      "display_name": "Python 3"
    },
    "language_info": {
      "name": "python"
    }
  },
  "cells": [
    {
      "cell_type": "markdown",
      "metadata": {
        "id": "view-in-github",
        "colab_type": "text"
      },
      "source": [
        "<a href=\"https://colab.research.google.com/github/xuebingwu/kpLogo/blob/master/kplogo_colab.ipynb\" target=\"_parent\"><img src=\"https://colab.research.google.com/assets/colab-badge.svg\" alt=\"Open In Colab\"/></a>"
      ]
    },
    {
      "cell_type": "code",
      "execution_count": null,
      "metadata": {
        "id": "i7v8oiCumCM8",
        "cellView": "form"
      },
      "outputs": [],
      "source": [
        "#@title Please upload your file\n",
        "\n",
        "from google.colab import files\n",
        "import os\n",
        "\n",
        "uploaded = files.upload()\n",
        "\n",
        "for fn in uploaded.keys():\n",
        "  os.rename(fn,\"input.txt\")\n",
        "\n",
        "if not os.path.exists(\"kpLogo\"):\n",
        "  !git clone https://github.com/xuebingwu/kpLogo.git\n",
        "\n",
        "!/content/kpLogo/bin/kpLogo /content/input.txt -gapped -startPos 26 -pc 0.01"
      ]
    }
  ]
}